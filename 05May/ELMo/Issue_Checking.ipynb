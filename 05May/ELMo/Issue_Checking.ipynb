{
 "cells": [
  {
   "cell_type": "code",
   "execution_count": 1,
   "metadata": {},
   "outputs": [
    {
     "name": "stdout",
     "output_type": "stream",
     "text": [
      "1. Finish TrainDataset(16.134s)\n"
     ]
    }
   ],
   "source": [
    "from src.data import *\n",
    "from src.models import *\n",
    "import torch.optim as optim\n",
    "from src.trainer import *\n",
    "from torch.utils.data import DataLoader\n",
    "import time\n",
    "st = time.time()\n",
    "TrainDataset = KoDataset(\"/home/jack/torchstudy/05May/ELMo/data/new_cleaned_petition.ko\", \n",
    "            max_character_length = 5,\n",
    "            max_character_size = 2000,\n",
    "            max_vocab_size = 30000\n",
    "            )\n",
    "\n",
    "print(f\"1. Finish TrainDataset({time.time()-st:.3f}s)\")\n",
    "\n",
    "\n",
    "model_config = {\n",
    "    \"character_embedding\" :128,\n",
    "    'cnn_kernal_output' : [[2, 256], [3, 256]],\n",
    "    \"word_embedding\" : 512,\n",
    "    \"character_set_size\" : len(TrainDataset.character_dict),\n",
    "    'highway_layer' : 2,\n",
    "    \"hidden_size\" : 1024,\n",
    "    \"output_dim\" : len(TrainDataset.ko_vocab)\n",
    "}\n",
    "\n",
    "train_config = {\n",
    "    \"epochs\" : 100,\n",
    "    \"device\" : \"cuda:0\",\n",
    "    \"batch_size\" : 64,\n",
    "    \"lr\" : 1,\n",
    "    \"optimizer\" : torch.optim.Adadelta,\n",
    "    \"schedule\" : False\n",
    "}\n"
   ]
  },
  {
   "cell_type": "code",
   "execution_count": 3,
   "metadata": {},
   "outputs": [
    {
     "data": {
      "text/plain": [
       "1387"
      ]
     },
     "execution_count": 3,
     "metadata": {},
     "output_type": "execute_result"
    }
   ],
   "source": [
    "len(TrainDataset.character_dict)"
   ]
  },
  {
   "cell_type": "code",
   "execution_count": 9,
   "metadata": {},
   "outputs": [],
   "source": [
    "TrainDataset = KoDataset(\"/home/jack/torchstudy/05May/ELMo/data/new_cleaned_petition.ko\", \n",
    "            max_character_length = 5,\n",
    "            max_character_size = 2000,\n",
    "            max_vocab_size = 100000\n",
    "            )"
   ]
  },
  {
   "cell_type": "code",
   "execution_count": 10,
   "metadata": {},
   "outputs": [
    {
     "data": {
      "text/plain": [
       "53385"
      ]
     },
     "execution_count": 10,
     "metadata": {},
     "output_type": "execute_result"
    }
   ],
   "source": [
    "len(TrainDataset.ko_vocab)"
   ]
  },
  {
   "cell_type": "code",
   "execution_count": 1,
   "metadata": {},
   "outputs": [],
   "source": [
    "import torch"
   ]
  },
  {
   "cell_type": "code",
   "execution_count": 16,
   "metadata": {},
   "outputs": [],
   "source": [
    "a = torch.randn(1,128,3)"
   ]
  },
  {
   "cell_type": "code",
   "execution_count": 8,
   "metadata": {
    "scrolled": true
   },
   "outputs": [
    {
     "data": {
      "text/plain": [
       "tensor([[[ 0.0677, -1.1234, -0.5093],\n",
       "         [ 0.2759,  1.2056,  0.3783],\n",
       "         [ 1.8241,  0.0512, -0.9374]]])"
      ]
     },
     "execution_count": 8,
     "metadata": {},
     "output_type": "execute_result"
    }
   ],
   "source": [
    "a"
   ]
  },
  {
   "cell_type": "code",
   "execution_count": 15,
   "metadata": {
    "scrolled": true
   },
   "outputs": [
    {
     "data": {
      "text/plain": [
       "torch.return_types.max(\n",
       "values=tensor([[0.0677, 1.2056, 1.8241]]),\n",
       "indices=tensor([[0, 1, 0]]))"
      ]
     },
     "execution_count": 15,
     "metadata": {},
     "output_type": "execute_result"
    }
   ],
   "source": [
    "torch.max(a, dim=-1)"
   ]
  },
  {
   "cell_type": "code",
   "execution_count": 17,
   "metadata": {},
   "outputs": [
    {
     "data": {
      "text/plain": [
       "tensor([[2.6768, 2.8562, 3.1290]])"
      ]
     },
     "execution_count": 17,
     "metadata": {},
     "output_type": "execute_result"
    }
   ],
   "source": [
    "torch.max(a.permute(0,2,1), dim = -1)[0]"
   ]
  },
  {
   "cell_type": "code",
   "execution_count": 19,
   "metadata": {},
   "outputs": [],
   "source": [
    "import torch"
   ]
  },
  {
   "cell_type": "code",
   "execution_count": 74,
   "metadata": {},
   "outputs": [],
   "source": [
    "a = torch.randn(5,5,3)"
   ]
  },
  {
   "cell_type": "code",
   "execution_count": 75,
   "metadata": {},
   "outputs": [],
   "source": [
    "ln = torch.nn.LayerNorm([3])"
   ]
  },
  {
   "cell_type": "code",
   "execution_count": 76,
   "metadata": {},
   "outputs": [
    {
     "data": {
      "text/plain": [
       "torch.Size([5, 5, 3])"
      ]
     },
     "execution_count": 76,
     "metadata": {},
     "output_type": "execute_result"
    }
   ],
   "source": [
    "ln(a).shape"
   ]
  },
  {
   "cell_type": "code",
   "execution_count": 72,
   "metadata": {},
   "outputs": [
    {
     "data": {
      "text/plain": [
       "tensor([-1.2091, -0.2566,  0.2319, -0.6538,  0.7714, -0.9115, -0.2257, -0.0461,\n",
       "         0.0659, -1.0287, -0.3384,  0.9189,  0.1855,  0.1463,  1.1862, -0.9253,\n",
       "        -0.5159,  0.1947,  0.6072, -0.4259,  0.0760, -1.4922,  0.8150,  0.8129,\n",
       "        -0.0440, -1.0061,  0.3962,  2.2259, -0.6984, -0.2854])"
      ]
     },
     "execution_count": 72,
     "metadata": {},
     "output_type": "execute_result"
    }
   ],
   "source": [
    "b = torch.randn(10,3).reshape(-1)\n",
    "b"
   ]
  },
  {
   "cell_type": "code",
   "execution_count": 73,
   "metadata": {},
   "outputs": [
    {
     "data": {
      "text/plain": [
       "tensor([-0.2854, -0.6984,  2.2259,  0.3962, -1.0061, -0.0440,  0.8129,  0.8150,\n",
       "        -1.4922,  0.0760, -0.4259,  0.6072,  0.1947, -0.5159, -0.9253,  1.1862,\n",
       "         0.1463,  0.1855,  0.9189, -0.3384, -1.0287,  0.0659, -0.0461, -0.2257,\n",
       "        -0.9115,  0.7714, -0.6538,  0.2319, -0.2566, -1.2091])"
      ]
     },
     "execution_count": 73,
     "metadata": {},
     "output_type": "execute_result"
    }
   ],
   "source": [
    "torch.flip(b, dims = [0])"
   ]
  },
  {
   "cell_type": "markdown",
   "metadata": {},
   "source": [
    "## Test"
   ]
  },
  {
   "cell_type": "code",
   "execution_count": 1,
   "metadata": {},
   "outputs": [],
   "source": [
    "import torch\n",
    "import dill\n",
    "from konlpy.tag import Mecab"
   ]
  },
  {
   "cell_type": "code",
   "execution_count": 2,
   "metadata": {},
   "outputs": [],
   "source": [
    "def read_pkl(path):\n",
    "    with open(path, \"rb\") as f:\n",
    "        return dill.load(f)"
   ]
  },
  {
   "cell_type": "code",
   "execution_count": 3,
   "metadata": {},
   "outputs": [],
   "source": [
    "def make_test_sample(traindataset, raw_ko_list):\n",
    "    batch = []\n",
    "    for raw_ko in raw_ko_list:\n",
    "        sample = torch.tensor([2]+[traindataset.ko_vocab.vocab_dict[token] for token in traindataset.ko_vocab.tokenizer(raw_ko)]+[3]).long()\n",
    "        batch.append(sample)\n",
    "    return traindataset.collate_fn(batch)"
   ]
  },
  {
   "cell_type": "code",
   "execution_count": 23,
   "metadata": {
    "scrolled": false
   },
   "outputs": [
    {
     "name": "stdout",
     "output_type": "stream",
     "text": [
      "namu_traindataset_0529.pkl  namu_traindataset.pkl  traindataset_head.pkl  w2v\r\n",
      "namu_traindataset_1.pkl     petition_ynat.pkl\t   traindataset.pkl\r\n"
     ]
    }
   ],
   "source": [
    "!ls vocab"
   ]
  },
  {
   "cell_type": "code",
   "execution_count": 24,
   "metadata": {},
   "outputs": [
    {
     "name": "stdout",
     "output_type": "stream",
     "text": [
      "best_model_0521_4.pt\t  best_model_11.pt\t elmo_with_w2v30.pt\r\n",
      "best_model_0521_5.pt\t  best_model_1.pt\t only_w2v_init10.pt\r\n",
      "best_model_0524_256_4.pt  best_model_under.pt\t only_w2v_init20.pt\r\n",
      "best_model_0524_256_5.pt  best_namu_0527_256.pt  petition_ynat_0531.pt\r\n",
      "best_model_0524_256_6.pt  elmo_without_w2v10.pt  random_emb_init10.pt\r\n",
      "best_model_0524_256_7.pt  elmo_without_w2v20.pt  random_emb_init20.pt\r\n",
      "best_model_0524_256_8.pt  elmo_with_random10.pt  test\r\n",
      "best_model_0524_256.pt\t  elmo_with_random20.pt  tmp.pt\r\n",
      "best_model_0.pt\t\t  elmo_with_w2v10.pt\t ynat\r\n",
      "best_model_10.pt\t  elmo_with_w2v20.pt\r\n"
     ]
    }
   ],
   "source": [
    "!ls model/"
   ]
  },
  {
   "cell_type": "code",
   "execution_count": 25,
   "metadata": {
    "scrolled": true
   },
   "outputs": [
    {
     "name": "stdout",
     "output_type": "stream",
     "text": [
      "['<SOS>', '국민', '과', '소통', '하', '시', '고', '자유', '롭', '고', '행복', '한', '나라', '를', '만들', '기', '위해', '힘쓰', '고', '계신', '대통령', '께', '존경', '과', '찬사', '를', '<UNK>', '<EOS>', '<PAD>', '<PAD>', '<PAD>', '<PAD>', '<PAD>', '<PAD>', '<PAD>', '<PAD>', '<PAD>', '<PAD>', '<PAD>', '<PAD>', '<PAD>', '<PAD>', '<PAD>', '<PAD>', '<PAD>', '<PAD>', '<PAD>', '<PAD>', '<PAD>', '<PAD>', '<PAD>', '<PAD>']\n"
     ]
    }
   ],
   "source": [
    "train_strings = [i.strip() for cnt, i in enumerate(open(\"./data/new_cleaned_petition.ko.patch1\").readlines()) if cnt < 10]\n",
    "\n",
    "traindataset = read_pkl(\"./vocab/namu_traindataset.pkl\")\n",
    "model = torch.load(\"./model/best_namu_0527_256.pt\", map_location=\"cpu\")\n",
    "sentence, char = make_test_sample(traindataset, train_strings)\n",
    "print([traindataset.ko_vocab.index_dict[int(i)] for i in sentence[0]])"
   ]
  },
  {
   "cell_type": "code",
   "execution_count": 26,
   "metadata": {
    "scrolled": true
   },
   "outputs": [
    {
     "data": {
      "text/plain": [
       "['국민과 소통하시고 자유롭고 행복한 나라를 만들기 위해 힘쓰고 계신 대통령께 존경과 찬사를 올립니다',\n",
       " '저는 경북 울진군 북면 부구검성로 12번지에 살고 있는 북면발전협의회장 이희국이라고 합니다',\n",
       " '저는 8기의 원전이 가동 건설되고 있는 이곳 북면에 태어나 68년째 거주하고 있는 원전지역 주민입니다',\n",
       " '간절한 마음을 담아 대통령께 다음과 같이 호소 드립니다',\n",
       " '울진군민과 약속한 신한울 3,4호기 원전건설을 재개해 주십시오. 여태껏 단 한 번도 원전 건설을 원한 적 없는 제가 신한울 3,4호기 원전 건설을 청하는 까닭을 말씀드리겠습니다',\n",
       " '경상북도 동해안 최북단 울진군은 예부터 산과 바다',\n",
       " '계곡의 울창함이 보배처럼 아름답다하여 울진 이라는 지명을 간직하게 된 곳입니다',\n",
       " '이러한 곳에 1981년 원전사업의 시작으로 울진군에 북면',\n",
       " '먼저 북면 부구리 지역에 원전 6기가 건설되었습니다',\n",
       " '해안선이 잘려나가고 마을 한복판에 고압 송전탑이 들어섰습니다']"
      ]
     },
     "execution_count": 26,
     "metadata": {},
     "output_type": "execute_result"
    }
   ],
   "source": [
    "train_strings"
   ]
  },
  {
   "cell_type": "code",
   "execution_count": 27,
   "metadata": {},
   "outputs": [],
   "source": [
    "def get_predictions(model, input_batch):\n",
    "    model.eval()\n",
    "    fpred, bpred = model(input_batch)\n",
    "    fpred = torch.argmax(fpred, dim=-1)\n",
    "    bpred = torch.argmax(bpred, dim=-1)\n",
    "    return fpred, bpred"
   ]
  },
  {
   "cell_type": "code",
   "execution_count": 28,
   "metadata": {},
   "outputs": [],
   "source": [
    "fpred, bpred = get_predictions(model, char.to('cpu'))"
   ]
  },
  {
   "cell_type": "code",
   "execution_count": 30,
   "metadata": {
    "scrolled": true
   },
   "outputs": [
    {
     "name": "stdout",
     "output_type": "stream",
     "text": [
      "국민 과 소통 하 시 고 자유 롭 고 행복 한 나라 를 만들 기 위해 힘쓰 고 계신 대통령 <UNK> 존경 과 찬사 를 <UNK> <EOS> <EOS> 다 었 싶 싶 싶 싶 싶 <UNK> <UNK> <UNK> <UNK> <UNK> 싶 싶 <UNK> <UNK> 싶 <UNK> <UNK> 싶 싶 <UNK> 싫 몫\n",
      "저 는 경북 울진군 북면 부 <UNK> 성 로 12 번지 에 살 고 있 는 북면 발전 협의 회장 <UNK> 이 라고 합니다 <EOS> <EOS> 다 싶 1997 싶 싶 싶 싶 싶 싶 싶 싶 싶 싶 싶 싶 싶 싶 싶 싶 싶 싶 싶 싶 탓 싫 했\n",
      "저 는 8 기 의 원전 이 가동 건설 되 고 있 는 이곳 북면 에 태어나 68 년 째 거주 하 고 있 는 원전 지역 주민 입니다 <EOS> <EOS> 다 1996 2016 싶 1997 싶 싶 싶 싶 싶 싶 싶 싶 싶 싶 싶 싶 싶 탓 싫 몫\n",
      "간절 한 마음 을 담 아 대통령 <UNK> 다음 과 같이 호소 드립니다 <EOS> <EOS> 다 었 1997 싶 싶 싶 싶 싶 싶 싶 싶 싶 싶 싶 싶 싶 싶 싶 싶 싶 싶 싶 싶 싶 싶 싶 싶 싶 싶 싶 싶 싶 싶 싶 탓 싫 몫\n",
      "울진 군민 과 약속 한 신 한울 3 , 4 호기 원전 건설 을 재개 해 주 십시오 <UNK> 여태껏 단 한 번 도 원전 건설 을 원한 적 없 는 제 가 신 한울 3 , 4 호기 원전 건설 을 청하 는 까닭 을 말씀 드리 겠 습니다 <EOS> <EOS>\n",
      "경상북도 동해안 최북단 울진군 은 예 부터 산 과 바다 <EOS> <EOS> 다 었 1997 싶 싶 싶 싶 싶 싶 싶 싶 싶 싶 싶 싶 싶 싶 싶 싶 싶 싶 싶 싶 싶 싶 싶 싶 싶 싶 싶 싶 싶 싶 싶 싶 싶 싶 싶 싶 했\n",
      "계곡 의 <UNK> 함 이 보배 처럼 아름답 다 하 여 울진 이 라는 지명 을 간직 하 게 된 곳 입니다 <EOS> <EOS> 다 었 1997 싶 싶 싶 싶 싶 싶 싶 싶 싶 싶 싶 싶 싶 싶 싶 싶 싶 싶 싶 싶 싶 싶 싶 싫 했\n",
      "이러 한 곳 에 1981 년 원전 사업 의 시작 으로 울진군 에 북면 <EOS> <EOS> 다 었 싶 싶 싶 싫 싫 싫 싫 싫 탓 싶 싶 싶 싶 싶 싶 싶 싶 탓 싫 탓 싫 탓 싫 탓 탓 탓 탓 탓 탓 탓 탓 탓 싫 몫\n",
      "먼저 북면 <UNK> 지역 에 원전 6 기 가 건설 되 었 습니다 <EOS> <EOS> 다 다 2016 싶 싶 싶 싶 싶 싫 싫 탓 싶 싶 싶 싶 싶 싶 싶 싶 싶 싶 싶 싶 싶 싶 싶 싶 싶 싶 싶 싶 싶 싶 싶 탓 싫 몫\n",
      "해안선 이 잘려 나가 고 마을 한 복판 에 고압 <UNK> 이 들어섰 습니다 <EOS> <EOS> 다 었 1996 싶 싶 싶 싶 싶 싶 싶 싶 싶 싶 싶 싶 싶 싶 싶 싶 싶 싶 싶 싶 싶 싶 싶 싶 싶 싶 탓 싶 싶 싶 탓 싫 했\n"
     ]
    }
   ],
   "source": [
    "for each in bpred.T:\n",
    "    print(\" \".join(traindataset.ko_vocab.index_dict[int(i)] for i in each))"
   ]
  },
  {
   "cell_type": "code",
   "execution_count": 31,
   "metadata": {},
   "outputs": [
    {
     "name": "stdout",
     "output_type": "stream",
     "text": [
      "국민 과 소통 하 시 고 자유 롭 고 행복 한 나라 를 만들 기 위해 힘쓰 고 계신 대통령 <UNK> 존경 과 찬사 를 <UNK> <EOS> <EOS> 등 등 등 등 등 등 등 등 등 등 등 등 등 등 등 등 등 등 등 등 등 등 등 제\n",
      "저 는 경북 울진군 북면 부 <UNK> 성 로 12 번지 에 살 고 있 는 북면 발전 협의 회장 <UNK> 이 라고 합니다 <EOS> <EOS> 비 등 등 등 등 등 등 등 등 등 등 등 등 등 등 등 등 등 등 등 등 등 등 등 등 등\n",
      "저 는 8 기 의 원전 이 가동 건설 되 고 있 는 이곳 북면 에 태어나 68 년 째 거주 하 고 있 는 원전 지역 주민 입니다 <EOS> <EOS> <EOS> 등 등 등 등 등 등 등 등 등 등 등 등 등 등 등 등 등 등 등 등\n",
      "간절 한 마음 을 담 아 대통령 <UNK> 다음 과 같이 호소 드립니다 <EOS> <EOS> 등 등 등 등 등 등 등 등 등 등 등 등 등 등 등 등 등 등 등 등 등 등 등 등 등 등 등 등 등 등 등 등 등 등 등 등 등\n",
      "울진 군민 과 약속 한 신 한울 3 , 4 호기 원전 건설 을 재개 해 주 십시오 <UNK> 여태껏 단 한 번 도 원전 건설 을 원한 적 없 는 제 가 신 한울 3 , 4 호기 원전 건설 을 청하 는 까닭 을 말씀 드리 겠 습니다 <EOS> <EOS>\n",
      "경상북도 동해안 최북단 울진군 은 예 부터 산 과 바다 <EOS> <EOS> <EOS> 등 등 등 등 등 등 등 등 등 등 등 등 등 등 등 등 등 등 등 등 등 등 등 등 등 등 등 등 등 등 등 등 등 등 등 등 등 등 등\n",
      "계곡 의 <UNK> 함 이 보배 처럼 아름답 다 하 여 울진 이 라는 지명 을 간직 하 게 된 곳 입니다 <EOS> <EOS> 등 등 등 등 등 등 등 등 등 등 등 등 등 등 등 등 등 등 등 등 등 등 등 등 등 등 등 등\n",
      "이러 한 곳 에 1981 년 원전 사업 의 시작 으로 울진군 에 북면 <EOS> <EOS> <EOS> 등 등 등 등 등 등 등 등 등 등 등 등 등 등 등 등 등 등 등 등 등 등 등 등 등 등 등 등 등 등 등 등 등 등 제\n",
      "먼저 북면 <UNK> 지역 에 원전 6 기 가 건설 되 었 습니다 <EOS> <EOS> 등 등 등 등 등 등 등 등 등 등 등 등 등 등 등 등 등 등 등 등 등 등 등 등 등 등 등 등 등 등 등 등 등 등 등 등 등\n",
      "해안선 이 잘려 나가 고 마을 한 복판 에 고압 <UNK> 이 들어섰 습니다 <EOS> <EOS> 등 등 등 등 등 등 등 등 등 등 등 등 등 등 등 등 등 등 등 등 등 등 등 등 등 등 등 등 등 등 등 등 등 등 등 등\n"
     ]
    }
   ],
   "source": [
    "for each in fpred.T:\n",
    "    print(\" \".join(traindataset.ko_vocab.index_dict[int(i)] for i in each))"
   ]
  },
  {
   "cell_type": "markdown",
   "metadata": {},
   "source": [
    "## Transfer"
   ]
  },
  {
   "cell_type": "code",
   "execution_count": 10,
   "metadata": {},
   "outputs": [],
   "source": [
    "def get_hiddens(model, input_batch, nlayers=2):\n",
    "    model.eval()\n",
    "    hiddens = []\n",
    "    embs = []\n",
    "    steps = input_batch.size()[1]\n",
    "    for i in range(steps):\n",
    "        each_input = input_batch[:,i,:].unsqueeze(1)\n",
    "        x = model.embedding(each_input) # embedding & highway\n",
    "        x = x.permute(1, 0, 2)\n",
    "        output, (hidden, c_state) = model.rnn(x)\n",
    "        embs.append(x)\n",
    "        hiddens.append(hidden)\n",
    "    embs = torch.stack(embs)\n",
    "    embs = embs.permute(2, 0, 1, 3)\n",
    "    hiddens = torch.stack(hiddens)\n",
    "    hiddens = hiddens.permute(2, 0, 1, 3)\n",
    "\n",
    "    fhiddens, bhiddens = hiddens[:,:,:nlayers,:], hiddens[:,:,nlayers:,:]\n",
    "    s_lstm_hiddens = torch.cat([fhiddens, bhiddens], dim=3)\n",
    "    s_embs = torch.cat([embs, embs], dim = 3)\n",
    "    ret = torch.cat([s_embs, s_lstm_hiddens], dim=2)\n",
    "    return ret"
   ]
  },
  {
   "cell_type": "code",
   "execution_count": 25,
   "metadata": {},
   "outputs": [],
   "source": [
    "import torch.nn as nn\n",
    "\n",
    "class task_fine_tune(nn.Module):\n",
    "    def __init__(self, concat_dim, n_layers = 3, projection = 512, device = 'cuda:1'):\n",
    "        super(task_fine_tune, self).__init__() \n",
    "        self.device = device\n",
    "        self.task_gamma = torch.Tensor([0.01])\n",
    "        self.task_tensor = torch.Tensor([1.] * n_layers)\n",
    "        self.softmax = nn.Softmax(dim=0)\n",
    "        self.projection = False\n",
    "        if projection is not None:\n",
    "            self.projection = True\n",
    "            self.fc = nn.Linear(concat_dim, projection)\n",
    "    def forward(self, input):\n",
    "        input = input.to(self.device)\n",
    "        task_s = self.softmax(self.task_tensor.to(self.device))\n",
    "        task_vectors = torch.einsum('t,bsle->bse', task_s, input)\n",
    "        task_vectors = torch.einsum('g,bse->bse', self.task_gamma.to(self.device), task_vectors)\n",
    "        if self.projection:\n",
    "            task_vectors = self.fc(task_vectors)\n",
    "        task_vectors = task_vectors.permute(1, 0, 2)\n",
    "        return task_vectors"
   ]
  },
  {
   "cell_type": "code",
   "execution_count": 26,
   "metadata": {},
   "outputs": [],
   "source": [
    "hiddens = get_hiddens(model, char.to(\"cuda:1\"))"
   ]
  },
  {
   "cell_type": "code",
   "execution_count": 27,
   "metadata": {},
   "outputs": [],
   "source": [
    "t1 = task_fine_tune(concat_dim=1024).to('cuda:1')\n",
    "task_vectors = t1(hiddens)"
   ]
  },
  {
   "cell_type": "code",
   "execution_count": 28,
   "metadata": {
    "scrolled": false
   },
   "outputs": [
    {
     "data": {
      "text/plain": [
       "torch.Size([52, 10, 512])"
      ]
     },
     "execution_count": 28,
     "metadata": {},
     "output_type": "execute_result"
    }
   ],
   "source": [
    "task_vectors.shape"
   ]
  },
  {
   "cell_type": "code",
   "execution_count": 126,
   "metadata": {},
   "outputs": [
    {
     "data": {
      "text/plain": [
       "tensor([[127.9204, 127.4638, 127.9955, 128.7530, 125.8739, 125.4140],\n",
       "        [127.9204, 128.4269, 128.4149, 109.5642, 128.6992, 125.8739]],\n",
       "       device='cuda:1', grad_fn=<SelectBackward>)"
      ]
     },
     "execution_count": 126,
     "metadata": {},
     "output_type": "execute_result"
    }
   ],
   "source": [
    "torch.einsum('t,bsle->bste', task.to('cuda:1'), hiddens)[:,:,0,0]"
   ]
  },
  {
   "cell_type": "code",
   "execution_count": null,
   "metadata": {},
   "outputs": [],
   "source": []
  },
  {
   "cell_type": "code",
   "execution_count": 38,
   "metadata": {},
   "outputs": [
    {
     "data": {
      "text/plain": [
       "torch.Size([1, 2, 256])"
      ]
     },
     "execution_count": 38,
     "metadata": {},
     "output_type": "execute_result"
    }
   ],
   "source": [
    "get_hiddens(model, char.to(\"cuda:1\"))[0].shape"
   ]
  },
  {
   "cell_type": "code",
   "execution_count": 120,
   "metadata": {},
   "outputs": [],
   "source": []
  },
  {
   "cell_type": "code",
   "execution_count": 118,
   "metadata": {},
   "outputs": [],
   "source": [
    "embs, hiddens = get_hiddens(model, char.to(\"cuda:1\"))"
   ]
  },
  {
   "cell_type": "code",
   "execution_count": 158,
   "metadata": {},
   "outputs": [
    {
     "name": "stdout",
     "output_type": "stream",
     "text": [
      "tensor([-0.7466])\n"
     ]
    }
   ],
   "source": [
    "task=t1(hiddens)"
   ]
  },
  {
   "cell_type": "code",
   "execution_count": 93,
   "metadata": {},
   "outputs": [
    {
     "data": {
      "text/plain": [
       "torch.Size([2, 6, 1, 512])"
      ]
     },
     "execution_count": 93,
     "metadata": {},
     "output_type": "execute_result"
    }
   ],
   "source": [
    "embs.shape"
   ]
  },
  {
   "cell_type": "code",
   "execution_count": 94,
   "metadata": {},
   "outputs": [
    {
     "data": {
      "text/plain": [
       "torch.Size([2, 6, 2, 1024])"
      ]
     },
     "execution_count": 94,
     "metadata": {},
     "output_type": "execute_result"
    }
   ],
   "source": [
    "hiddens.shape"
   ]
  },
  {
   "cell_type": "code",
   "execution_count": 88,
   "metadata": {},
   "outputs": [
    {
     "data": {
      "text/plain": [
       "torch.Size([2, 6, 2, 1024])"
      ]
     },
     "execution_count": 88,
     "metadata": {},
     "output_type": "execute_result"
    }
   ],
   "source": [
    "torch.cat([f,b],dim = 3).shape"
   ]
  },
  {
   "cell_type": "code",
   "execution_count": 125,
   "metadata": {},
   "outputs": [
    {
     "data": {
      "text/plain": [
       "tensor([[382.2381, 380.8681, 382.4633, 384.7359, 376.0986, 374.7188],\n",
       "        [382.2381, 383.7574, 383.7214, 327.1694, 384.5745, 376.0986]],\n",
       "       device='cuda:1', grad_fn=<SelectBackward>)"
      ]
     },
     "execution_count": 125,
     "metadata": {},
     "output_type": "execute_result"
    }
   ],
   "source": [
    "hiddens[:,:,0,0]"
   ]
  },
  {
   "cell_type": "code",
   "execution_count": 80,
   "metadata": {},
   "outputs": [
    {
     "data": {
      "text/plain": [
       "torch.Size([2, 6, 2, 512])"
      ]
     },
     "execution_count": 80,
     "metadata": {},
     "output_type": "execute_result"
    }
   ],
   "source": [
    "get_hiddens(model, char.to(\"cuda:1\"))[2]"
   ]
  },
  {
   "cell_type": "code",
   "execution_count": 52,
   "metadata": {},
   "outputs": [],
   "source": [
    "del char"
   ]
  },
  {
   "cell_type": "code",
   "execution_count": 28,
   "metadata": {},
   "outputs": [
    {
     "data": {
      "text/plain": [
       "torch.Size([6, 2, 1024])"
      ]
     },
     "execution_count": 28,
     "metadata": {},
     "output_type": "execute_result"
    }
   ],
   "source": []
  },
  {
   "cell_type": "code",
   "execution_count": null,
   "metadata": {},
   "outputs": [],
   "source": []
  },
  {
   "cell_type": "code",
   "execution_count": null,
   "metadata": {},
   "outputs": [],
   "source": []
  },
  {
   "cell_type": "markdown",
   "metadata": {},
   "source": [
    "## Transfer learning Test"
   ]
  },
  {
   "cell_type": "code",
   "execution_count": 1,
   "metadata": {},
   "outputs": [],
   "source": [
    "import glob\n",
    "logfiles = glob.glob(\"downstream.log.*\")"
   ]
  },
  {
   "cell_type": "code",
   "execution_count": 2,
   "metadata": {},
   "outputs": [
    {
     "data": {
      "text/plain": [
       "['downstream.log.onlyw2v',\n",
       " 'downstream.log.elmo_randw2v',\n",
       " 'downstream.log.randominit',\n",
       " 'downstream.log.onlyelmo',\n",
       " 'downstream.log.elmow2v']"
      ]
     },
     "execution_count": 2,
     "metadata": {},
     "output_type": "execute_result"
    }
   ],
   "source": [
    "logfiles"
   ]
  },
  {
   "cell_type": "code",
   "execution_count": 3,
   "metadata": {},
   "outputs": [],
   "source": [
    "def file_read_and_parse(file_path):\n",
    "    dims = {\"onlyelmo\" : [\"ELMo\",\"512\"], \n",
    "            \"elmo_randw2v\" : [\"ELMo+W2V(rand)\",\"712\"],\n",
    "            \"elmow2v\" : [\"ELMo+W2V(pretrained)\",\"712\"], \n",
    "            \"onlyw2v\" : [\"W2V(pretrained)\",\"200\"], \n",
    "            \"randominit\" : [\"W2V(rand)\",\"200\"]\n",
    "           }\n",
    "    ret = []\n",
    "    mtype = file_path.split(\".\")[-1]\n",
    "    with open(file_path, \"r\") as f:\n",
    "        f.readline()\n",
    "        for i, line in enumerate(f.readlines()):\n",
    "            line = line.strip().split(\",\")\n",
    "            train_loss = float(line[0].split(\" : \")[1])\n",
    "            valid_loss = float(line[1].split(\" : \")[1])\n",
    "            epoch_per_time = float(line[2].split(\" : \")[1][:-1])\n",
    "            ret.append([f\"{'_'.join(dims[mtype])}\", i, train_loss, valid_loss, epoch_per_time])\n",
    "    return ret"
   ]
  },
  {
   "cell_type": "code",
   "execution_count": 4,
   "metadata": {},
   "outputs": [],
   "source": [
    "df = []\n",
    "for i in logfiles:\n",
    "    df += file_read_and_parse(i)\n",
    "import pandas as pd\n",
    "df = pd.DataFrame(df, columns = ['model_type', 'epoch', 'train_loss','valid_loss', 'time'])\n",
    "df = df.sort_values(by = 'model_type')"
   ]
  },
  {
   "cell_type": "code",
   "execution_count": 11,
   "metadata": {},
   "outputs": [
    {
     "data": {
      "image/png": "[encoded data removed]",
      "text/plain": [
       "<Figure size 1080x576 with 2 Axes>"
      ]
     },
     "metadata": {},
     "output_type": "display_data"
    }
   ],
   "source": [
    "# onlyelmo -> elmo embedding (256 + 256)\n",
    "# elmo_randw2v -> elmo + w2v (256 + 256 + 200)\n",
    "# elmow2v -> elmo + w2v (256 + 256 + 200)\n",
    "# onlyw2v -> w2v (200)\n",
    "# randominit -> random embedding (200)\n",
    "import matplotlib.pyplot as plt\n",
    "import seaborn as sns\n",
    "\n",
    "fig, axes = plt.subplots(1, 2, figsize=(15,8))\n",
    "sns.lineplot(x=\"epoch\", y=\"train_loss\", hue=\"model_type\", markers=True, data=df,ax=axes[0]).set_title('Training Loss')\n",
    "sns.lineplot(x=\"epoch\", y=\"valid_loss\", hue=\"model_type\", markers=True, data=df,ax=axes[1]).set_title('Validation Loss')\n",
    "\n",
    "axes[0].lines[0].set_linestyle(\"--\")\n",
    "axes[0].lines[1].set_linestyle(\"--\")\n",
    "axes[0].lines[2].set_linestyle(\"--\")\n",
    "axes[0].lines[0].set_color(\"red\")\n",
    "axes[0].lines[1].set_color(\"salmon\")\n",
    "axes[0].lines[2].set_color(\"firebrick\")\n",
    "axes[0].lines[3].set_color(\"royalblue\")\n",
    "axes[0].lines[4].set_color(\"deepskyblue\")\n",
    "\n",
    "\n",
    "leg = axes[0].legend()\n",
    "leg_lines = leg.get_lines()\n",
    "leg_lines[0].set_linestyle(\"--\")\n",
    "leg_lines[1].set_linestyle(\"--\")\n",
    "leg_lines[2].set_linestyle(\"--\")\n",
    "leg_lines[0].set_color(\"red\")\n",
    "leg_lines[1].set_color(\"salmon\")\n",
    "leg_lines[2].set_color(\"firebrick\")\n",
    "leg_lines[3].set_color(\"royalblue\")\n",
    "leg_lines[4].set_color(\"deepskyblue\")\n",
    "\n",
    "axes[1].lines[0].set_linestyle(\"--\")\n",
    "axes[1].lines[1].set_linestyle(\"--\")\n",
    "axes[1].lines[2].set_linestyle(\"--\")\n",
    "\n",
    "axes[1].lines[0].set_color(\"red\")\n",
    "axes[1].lines[1].set_color(\"salmon\")\n",
    "axes[1].lines[2].set_color(\"firebrick\")\n",
    "axes[1].lines[3].set_color(\"royalblue\")\n",
    "axes[1].lines[4].set_color(\"deepskyblue\")\n",
    "\n",
    "leg = axes[1].legend()\n",
    "leg_lines = leg.get_lines()\n",
    "leg_lines[0].set_linestyle(\"--\")\n",
    "leg_lines[1].set_linestyle(\"--\")\n",
    "leg_lines[2].set_linestyle(\"--\")\n",
    "leg_lines[0].set_color(\"red\")\n",
    "leg_lines[1].set_color(\"salmon\")\n",
    "leg_lines[2].set_color(\"firebrick\")\n",
    "leg_lines[3].set_color(\"royalblue\")\n",
    "leg_lines[4].set_color(\"deepskyblue\")\n"
   ]
  },
  {
   "cell_type": "code",
   "execution_count": 9,
   "metadata": {},
   "outputs": [
    {
     "data": {
      "text/plain": [
       "<matplotlib.legend.Legend at 0x7f39877d9d90>"
      ]
     },
     "execution_count": 9,
     "metadata": {},
     "output_type": "execute_result"
    }
   ],
   "source": []
  },
  {
   "cell_type": "code",
   "execution_count": 6,
   "metadata": {},
   "outputs": [
    {
     "data": {
      "text/plain": [
       "<AxesSubplot:xlabel='model_type', ylabel='time'>"
      ]
     },
     "execution_count": 6,
     "metadata": {},
     "output_type": "execute_result"
    },
    {
     "data": {
      "image/png": "[encoded data removed]",
      "text/plain": [
       "<Figure size 1080x576 with 1 Axes>"
      ]
     },
     "metadata": {},
     "output_type": "display_data"
    }
   ],
   "source": [
    "fig = plt.figure(figsize=(15,8))\n",
    "sns.boxplot(x='model_type', y='time', data=df)"
   ]
  },
  {
   "cell_type": "code",
   "execution_count": null,
   "metadata": {},
   "outputs": [],
   "source": []
  },
  {
   "cell_type": "code",
   "execution_count": 27,
   "metadata": {},
   "outputs": [],
   "source": [
    "validation_files = glob.glob(\"./eval/val/*19.txt\")"
   ]
  },
  {
   "cell_type": "code",
   "execution_count": 28,
   "metadata": {},
   "outputs": [],
   "source": [
    "def (file_path):\n",
    "    tot = 0\n",
    "    hit = 0\n",
    "    with open(file_path, \"r\") as f:\n",
    "        for line in f.readlines():\n",
    "            tot += 1\n",
    "            orig, pred = line.split(\"||\")[:2]\n",
    "            if orig == pred:\n",
    "                hit += 1\n",
    "    return hit / tot * 100"
   ]
  },
  {
   "cell_type": "code",
   "execution_count": 36,
   "metadata": {
    "scrolled": true
   },
   "outputs": [
    {
     "name": "stdout",
     "output_type": "stream",
     "text": [
      "elmo_with_random, 46.83\n",
      "only_w2v_init, 46.00\n",
      "elmo_without_w2v, 45.00\n",
      "elmo_with_w2v, 49.67\n",
      "elmo, 50.17\n",
      "random_emb_init, 46.00\n"
     ]
    }
   ],
   "source": [
    "for file_path in validation_files:\n",
    "    print(f\"{file_path.split('/')[-1][6:-6]}, {get_acc(file_path):.2f}\")"
   ]
  },
  {
   "cell_type": "code",
   "execution_count": 51,
   "metadata": {},
   "outputs": [
    {
     "name": "stdout",
     "output_type": "stream",
     "text": [
      "./eval/val/ynat/valid_elmo_with_w2v43.txt, 78.32\n",
      "./eval/val/ynat/valid_elmo_with_w2v26.txt, 78.91\n",
      "./eval/val/ynat/valid_elmo_with_w2v45.txt, 77.95\n",
      "./eval/val/ynat/valid_elmo_with_w2v5.txt, 72.56\n",
      "./eval/val/ynat/valid_elmo_with_w2v24.txt, 77.79\n",
      "./eval/val/ynat/valid_elmo_with_w2v39.txt, 77.65\n",
      "./eval/val/ynat/valid_elmo_with_w2v35.txt, 77.76\n",
      "./eval/val/ynat/valid_elmo_with_w2v17.txt, 76.57\n",
      "./eval/val/ynat/valid_elmo_with_w2v23.txt, 77.98\n",
      "./eval/val/ynat/valid_elmo_with_w2v8.txt, 74.02\n",
      "./eval/val/ynat/valid_elmo_with_w2v40.txt, 78.17\n",
      "./eval/val/ynat/valid_elmo_with_w2v0.txt, 27.31\n",
      "./eval/val/ynat/valid_elmo_with_w2v33.txt, 78.94\n",
      "./eval/val/ynat/valid_elmo_with_w2v18.txt, 77.83\n",
      "./eval/val/ynat/valid_elmo_with_w2v28.txt, 77.70\n",
      "./eval/val/ynat/valid_elmo_with_w2v4.txt, 64.39\n",
      "./eval/val/ynat/valid_elmo_with_w2v20.txt, 77.58\n",
      "./eval/val/ynat/valid_elmo_with_w2v46.txt, 77.15\n",
      "./eval/val/ynat/valid_elmo_with_w2v25.txt, 77.93\n",
      "./eval/val/ynat/valid_elmo_with_w2v11.txt, 74.05\n",
      "./eval/val/ynat/valid_elmo_with_w2v32.txt, 78.71\n",
      "./eval/val/ynat/valid_elmo_with_w2v36.txt, 79.70\n",
      "./eval/val/ynat/valid_elmo_with_w2v14.txt, 74.78\n",
      "./eval/val/ynat/valid_elmo_with_w2v22.txt, 78.40\n",
      "./eval/val/ynat/valid_elmo_with_w2v12.txt, 76.14\n",
      "./eval/val/ynat/valid_elmo_with_w2v7.txt, 69.91\n",
      "./eval/val/ynat/valid_elmo_with_w2v27.txt, 79.14\n",
      "./eval/val/ynat/valid_elmo_with_w2v47.txt, 78.42\n",
      "./eval/val/ynat/valid_elmo_with_w2v6.txt, 71.80\n",
      "./eval/val/ynat/valid_elmo_with_w2v41.txt, 77.80\n",
      "./eval/val/ynat/valid_elmo_with_w2v10.txt, 71.79\n",
      "./eval/val/ynat/valid_elmo_with_w2v9.txt, 72.83\n",
      "./eval/val/ynat/valid_elmo_with_w2v44.txt, 77.51\n",
      "./eval/val/ynat/valid_elmo_with_w2v38.txt, 78.71\n",
      "./eval/val/ynat/valid_elmo_with_w2v16.txt, 76.63\n",
      "./eval/val/ynat/valid_elmo_with_w2v21.txt, 77.29\n",
      "./eval/val/ynat/valid_elmo_with_w2v49.txt, 78.53\n",
      "./eval/val/ynat/valid_elmo_with_w2v31.txt, 77.95\n",
      "./eval/val/ynat/valid_elmo_with_w2v3.txt, 65.07\n",
      "./eval/val/ynat/valid_elmo_with_w2v34.txt, 79.77\n",
      "./eval/val/ynat/valid_elmo_with_w2v19.txt, 76.27\n",
      "./eval/val/ynat/valid_elmo_with_w2v2.txt, 60.98\n",
      "./eval/val/ynat/valid_elmo_with_w2v42.txt, 76.18\n",
      "./eval/val/ynat/valid_elmo_with_w2v15.txt, 75.14\n",
      "./eval/val/ynat/valid_elmo_with_w2v1.txt, 51.09\n",
      "./eval/val/ynat/valid_elmo_with_w2v48.txt, 79.35\n",
      "./eval/val/ynat/valid_elmo_with_w2v37.txt, 77.85\n",
      "./eval/val/ynat/valid_elmo_with_w2v29.txt, 79.30\n",
      "./eval/val/ynat/valid_elmo_with_w2v13.txt, 75.57\n",
      "./eval/val/ynat/valid_elmo_with_w2v30.txt, 79.36\n"
     ]
    }
   ],
   "source": [
    "for file in glob.glob(\"./eval/val/ynat/*.txt\"):\n",
    "    print(f\"{file}, {get_acc(file):.2f}\")"
   ]
  },
  {
   "cell_type": "code",
   "execution_count": 127,
   "metadata": {},
   "outputs": [],
   "source": [
    "import glob\n",
    "files = glob.glob(\"*.log*0601*\")"
   ]
  },
  {
   "cell_type": "code",
   "execution_count": 128,
   "metadata": {},
   "outputs": [],
   "source": [
    "def parse_logs(file):\n",
    "    models = {\n",
    "    \"maybe_best_log\" : \"elmo,adam,1e-5,clip2\",\n",
    "    \"maybe_best_log_schedule\" : \"elmo,schedule,512,clip2\",\n",
    "    \"maybe_best_log_schedule_1024\" : \"elmo,schedule,1024,clip2\",\n",
    "    \"maybe_best_log_schedule_1024_clip5\" : \"elmo,schedule,1024,clip5\",\n",
    "    \"maybe_best_log_schedule_2048\" : \"elmo,schedule,2048,clip2\",\n",
    "    \"onlyw2v_log\" : \"onlyw2v,adam,1e-5\",\n",
    "    \"base_adam_1e-6_log\" : \"elmo.adam.1e-6,clip2\"\n",
    "    }   \n",
    "    model_type = models[\"_\".join(file.split(\".\")[:-1])]\n",
    "    tmp = []\n",
    "    with open(file, \"r\") as f:\n",
    "        f.readline()\n",
    "\n",
    "        for epoch, line in enumerate(f.readlines()):\n",
    "            epoch = epoch+1\n",
    "            tmpd = dict()\n",
    "            line = line.strip()\n",
    "            line = line[:-2]\n",
    "            line = line.replace(\"   valid_loss\", \", valid_loss\")\n",
    "            line = line.replace(\"  time\",\", time\")\n",
    "            line = line.replace(\"  \", \" \")\n",
    "            line = line.replace(\" \",\"\")\n",
    "            tmpd['epoch'] = epoch\n",
    "            tmpd['model_type'] = model_type\n",
    "            for item in line.split(\",\"):\n",
    "                k, v = item.split(\":\")\n",
    "                tmpd[k] = v\n",
    "            tmp.append(tmpd)\n",
    "    return tmp"
   ]
  },
  {
   "cell_type": "code",
   "execution_count": 129,
   "metadata": {},
   "outputs": [],
   "source": [
    "import pandas as pd\n",
    "ret = []\n",
    "for file in files:\n",
    "    ret += parse_logs(file)\n",
    "ret_df = pd.DataFrame.from_dict(ret)"
   ]
  },
  {
   "cell_type": "code",
   "execution_count": 131,
   "metadata": {},
   "outputs": [
    {
     "data": {
      "text/html": [
       "<div>\n",
       "<style scoped>\n",
       "    .dataframe tbody tr th:only-of-type {\n",
       "        vertical-align: middle;\n",
       "    }\n",
       "\n",
       "    .dataframe tbody tr th {\n",
       "        vertical-align: top;\n",
       "    }\n",
       "\n",
       "    .dataframe thead th {\n",
       "        text-align: right;\n",
       "    }\n",
       "</style>\n",
       "<table border=\"1\" class=\"dataframe\">\n",
       "  <thead>\n",
       "    <tr style=\"text-align: right;\">\n",
       "      <th></th>\n",
       "      <th>epoch</th>\n",
       "      <th>train_loss</th>\n",
       "      <th>train_acc</th>\n",
       "      <th>train_f1</th>\n",
       "      <th>valid_loss</th>\n",
       "      <th>valid_acc</th>\n",
       "      <th>valid_f1</th>\n",
       "      <th>time</th>\n",
       "    </tr>\n",
       "    <tr>\n",
       "      <th>model_type</th>\n",
       "      <th></th>\n",
       "      <th></th>\n",
       "      <th></th>\n",
       "      <th></th>\n",
       "      <th></th>\n",
       "      <th></th>\n",
       "      <th></th>\n",
       "      <th></th>\n",
       "    </tr>\n",
       "  </thead>\n",
       "  <tbody>\n",
       "    <tr>\n",
       "      <th>elmo,schedule,1024,clip2</th>\n",
       "      <td>100</td>\n",
       "      <td>1.329</td>\n",
       "      <td>99.998</td>\n",
       "      <td>1.000</td>\n",
       "      <td>2.537</td>\n",
       "      <td>82.881</td>\n",
       "      <td>0.788</td>\n",
       "      <td>42.43</td>\n",
       "    </tr>\n",
       "    <tr>\n",
       "      <th>onlyw2v,adam,1e-5</th>\n",
       "      <td>100</td>\n",
       "      <td>1.030</td>\n",
       "      <td>99.989</td>\n",
       "      <td>1.000</td>\n",
       "      <td>2.134</td>\n",
       "      <td>82.913</td>\n",
       "      <td>0.782</td>\n",
       "      <td>15.87</td>\n",
       "    </tr>\n",
       "    <tr>\n",
       "      <th>elmo,schedule,1024,clip5</th>\n",
       "      <td>100</td>\n",
       "      <td>1.357</td>\n",
       "      <td>99.998</td>\n",
       "      <td>1.000</td>\n",
       "      <td>2.567</td>\n",
       "      <td>82.779</td>\n",
       "      <td>0.781</td>\n",
       "      <td>42.09</td>\n",
       "    </tr>\n",
       "    <tr>\n",
       "      <th>elmo,schedule,2048,clip2</th>\n",
       "      <td>100</td>\n",
       "      <td>1.486</td>\n",
       "      <td>99.998</td>\n",
       "      <td>1.000</td>\n",
       "      <td>2.423</td>\n",
       "      <td>82.445</td>\n",
       "      <td>0.781</td>\n",
       "      <td>42.26</td>\n",
       "    </tr>\n",
       "    <tr>\n",
       "      <th>elmo,adam,1e-5,clip2</th>\n",
       "      <td>100</td>\n",
       "      <td>1.773</td>\n",
       "      <td>94.495</td>\n",
       "      <td>0.938</td>\n",
       "      <td>1.734</td>\n",
       "      <td>82.396</td>\n",
       "      <td>0.780</td>\n",
       "      <td>41.98</td>\n",
       "    </tr>\n",
       "    <tr>\n",
       "      <th>elmo,schedule,512,clip2</th>\n",
       "      <td>100</td>\n",
       "      <td>1.229</td>\n",
       "      <td>99.998</td>\n",
       "      <td>1.000</td>\n",
       "      <td>2.655</td>\n",
       "      <td>82.483</td>\n",
       "      <td>0.778</td>\n",
       "      <td>42.00</td>\n",
       "    </tr>\n",
       "    <tr>\n",
       "      <th>elmo.adam.1e-6,clip2</th>\n",
       "      <td>200</td>\n",
       "      <td>1.941</td>\n",
       "      <td>85.351</td>\n",
       "      <td>0.836</td>\n",
       "      <td>2.012</td>\n",
       "      <td>9.392</td>\n",
       "      <td>0.736</td>\n",
       "      <td>21.56</td>\n",
       "    </tr>\n",
       "  </tbody>\n",
       "</table>\n",
       "</div>"
      ],
      "text/plain": [
       "                          epoch train_loss train_acc train_f1 valid_loss  \\\n",
       "model_type                                                                 \n",
       "elmo,schedule,1024,clip2    100      1.329    99.998    1.000      2.537   \n",
       "onlyw2v,adam,1e-5           100      1.030    99.989    1.000      2.134   \n",
       "elmo,schedule,1024,clip5    100      1.357    99.998    1.000      2.567   \n",
       "elmo,schedule,2048,clip2    100      1.486    99.998    1.000      2.423   \n",
       "elmo,adam,1e-5,clip2        100      1.773    94.495    0.938      1.734   \n",
       "elmo,schedule,512,clip2     100      1.229    99.998    1.000      2.655   \n",
       "elmo.adam.1e-6,clip2        200      1.941    85.351    0.836      2.012   \n",
       "\n",
       "                         valid_acc valid_f1   time  \n",
       "model_type                                          \n",
       "elmo,schedule,1024,clip2    82.881    0.788  42.43  \n",
       "onlyw2v,adam,1e-5           82.913    0.782  15.87  \n",
       "elmo,schedule,1024,clip5    82.779    0.781  42.09  \n",
       "elmo,schedule,2048,clip2    82.445    0.781  42.26  \n",
       "elmo,adam,1e-5,clip2        82.396    0.780  41.98  \n",
       "elmo,schedule,512,clip2     82.483    0.778  42.00  \n",
       "elmo.adam.1e-6,clip2         9.392    0.736  21.56  "
      ]
     },
     "execution_count": 131,
     "metadata": {},
     "output_type": "execute_result"
    }
   ],
   "source": [
    "ret_df.groupby('model_type').max().sort_values('valid_f1',ascending = False)"
   ]
  },
  {
   "cell_type": "code",
   "execution_count": 121,
   "metadata": {},
   "outputs": [
    {
     "data": {
      "text/plain": [
       "2.5e-06"
      ]
     },
     "execution_count": 121,
     "metadata": {},
     "output_type": "execute_result"
    }
   ],
   "source": [
    "0.0000025"
   ]
  },
  {
   "cell_type": "code",
   "execution_count": null,
   "metadata": {},
   "outputs": [],
   "source": []
  }
 ],
 "metadata": {
  "kernelspec": {
   "display_name": "Python 3",
   "language": "python",
   "name": "python3"
  },
  "language_info": {
   "codemirror_mode": {
    "name": "ipython",
    "version": 3
   },
   "file_extension": ".py",
   "mimetype": "text/x-python",
   "name": "python",
   "nbconvert_exporter": "python",
   "pygments_lexer": "ipython3",
   "version": "3.8.8"
  },
  "varInspector": {
   "cols": {
    "lenName": 16,
    "lenType": 16,
    "lenVar": 40
   },
   "kernels_config": {
    "python": {
     "delete_cmd_postfix": "",
     "delete_cmd_prefix": "del ",
     "library": "var_list.py",
     "varRefreshCmd": "print(var_dic_list())"
    },
    "r": {
     "delete_cmd_postfix": ") ",
     "delete_cmd_prefix": "rm(",
     "library": "var_list.r",
     "varRefreshCmd": "cat(var_dic_list()) "
    }
   },
   "types_to_exclude": [
    "module",
    "function",
    "builtin_function_or_method",
    "instance",
    "_Feature"
   ],
   "window_display": false
  }
 },
 "nbformat": 4,
 "nbformat_minor": 4
}
