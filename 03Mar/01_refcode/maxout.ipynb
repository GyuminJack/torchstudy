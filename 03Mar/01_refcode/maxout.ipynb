{
 "cells": [
  {
   "cell_type": "code",
   "execution_count": 1,
   "metadata": {},
   "outputs": [],
   "source": [
    "import torch\n",
    "from torch import nn\n",
    "import matplotlib.pyplot as plt\n",
    "import numpy as np"
   ]
  },
  {
   "cell_type": "code",
   "execution_count": 2,
   "metadata": {},
   "outputs": [],
   "source": [
    "class maxout(nn.Module):\n",
    "    def __init__(self, input_dim, hidden_dim):\n",
    "        super().__init__()\n",
    "        self.linear = nn.Linear(input_dim, hidden_dim)\n",
    "        self.dropout = nn.Dropout(0.4)\n",
    "        \n",
    "    def forward(self, src):\n",
    "        src = self.dropout(src)\n",
    "        output = self.linear(src)\n",
    "        output, input_indexes = torch.max(output, dim = 1)\n",
    "        return output"
   ]
  },
  {
   "cell_type": "code",
   "execution_count": 12,
   "metadata": {},
   "outputs": [],
   "source": [
    "model = maxout(1, 3)\n",
    "loss = nn.MSELoss()\n",
    "optim = torch.optim.Adam(model.parameters(), lr = 0.001)"
   ]
  },
  {
   "cell_type": "code",
   "execution_count": 24,
   "metadata": {
    "scrolled": true
   },
   "outputs": [
    {
     "name": "stdout",
     "output_type": "stream",
     "text": [
      "tensor([1.4610, 1.4488, 1.4367])MseLossBackward>)\r"
     ]
    }
   ],
   "source": [
    "for i in range(10000):\n",
    "    optim.zero_grad()\n",
    "    x = torch.FloatTensor(1000, 1).uniform_(-30, 30)\n",
    "    y = x ** 2\n",
    "    lv = loss(model(x), y.view(-1))\n",
    "    if i % 1000 == 0:\n",
    "        print(str(i), lv, end = \"\\r\")\n",
    "        model.eval()\n",
    "        with torch.no_grad():\n",
    "            print(model(torch.Tensor([[0],[1],[2]])), end = \"\\r\")\n",
    "    lv.backward()\n",
    "    optim.step()"
   ]
  },
  {
   "cell_type": "code",
   "execution_count": 28,
   "metadata": {
    "scrolled": true
   },
   "outputs": [
    {
     "name": "stderr",
     "output_type": "stream",
     "text": [
      "/home/jack/anaconda3/envs/cuda/lib/python3.7/site-packages/ipykernel_launcher.py:3: UserWarning: torch.range is deprecated and will be removed in a future release because its behavior is inconsistent with Python's range builtin. Instead, use torch.arange, which produces values in [start, end).\n",
      "  This is separate from the ipykernel package so we can avoid doing imports until\n"
     ]
    },
    {
     "data": {
      "image/png": "[encoded data removed]",
      "text/plain": [
       "<Figure size 432x288 with 1 Axes>"
      ]
     },
     "metadata": {
      "needs_background": "light"
     },
     "output_type": "display_data"
    }
   ],
   "source": [
    "model.eval()\n",
    "with torch.no_grad():\n",
    "    xx = torch.range(-20, 20, 1)\n",
    "    y = model(xx.unsqueeze(1))\n",
    "    plt.scatter(xx, y.data)"
   ]
  },
  {
   "cell_type": "code",
   "execution_count": 58,
   "metadata": {},
   "outputs": [
    {
     "name": "stdout",
     "output_type": "stream",
     "text": [
      "tensor([-0.0000, 1.9944, 3.9888])\n"
     ]
    }
   ],
   "source": [
    "model.eval()\n",
    "with torch.no_grad():\n",
    "    print(model(torch.Tensor([[0],[1],[2]])))"
   ]
  },
  {
   "cell_type": "code",
   "execution_count": 19,
   "metadata": {},
   "outputs": [],
   "source": [
    "class Maxout(nn.Module):\n",
    "\n",
    "    def __init__(self, d_in, d_out, pool_size):\n",
    "        super().__init__()\n",
    "        self.d_in, self.d_out, self.pool_size = d_in, d_out, pool_size\n",
    "        self.lin = nn.Linear(d_in, d_out * pool_size)\n",
    "\n",
    "\n",
    "    def forward(self, inputs):\n",
    "        shape = list(inputs.size())\n",
    "        shape[-1] = self.d_out\n",
    "        shape.append(self.pool_size)\n",
    "        max_dim = len(shape) - 1\n",
    "        out = self.lin(inputs)\n",
    "        m, i = out.view(*shape).max(max_dim)\n",
    "        return m"
   ]
  },
  {
   "cell_type": "code",
   "execution_count": 20,
   "metadata": {},
   "outputs": [],
   "source": [
    "model = Maxout(1, 1, 5)\n",
    "loss = nn.MSELoss()\n",
    "optim = torch.optim.Adam(model.parameters(), lr = 0.001)"
   ]
  },
  {
   "cell_type": "code",
   "execution_count": 21,
   "metadata": {},
   "outputs": [
    {
     "name": "stdout",
     "output_type": "stream",
     "text": [
      "0 tensor(149132.4062, grad_fn=<MseLossBackward>) 0.5370, 0.9954, 1.7571\n",
      "10000 tensor(51805.0234, grad_fn=<MseLossBackward>) 9.3404, 19.6124, 30.0540\n",
      "20000 tensor(14399.4082, grad_fn=<MseLossBackward>) 16.7529, 35.2854, 54.3261\n",
      "30000 tensor(10709.5811, grad_fn=<MseLossBackward>) 6.7373, 28.0592, 50.2347\n",
      "40000 tensor(9411.3984, grad_fn=<MseLossBackward>) -0.0024, 18.6916, 41.3707\n",
      "50000 tensor(9079.1377, grad_fn=<MseLossBackward>) -0.0448, 9.3239, 32.4948\n",
      "60000 tensor(8407.7627, grad_fn=<MseLossBackward>) -0.1568, 0.8558, 23.6369\n",
      "70000 tensor(7895.5571, grad_fn=<MseLossBackward>) 0.0712, 1.0787, 14.7240\n",
      "80000 tensor(7465.4453, grad_fn=<MseLossBackward>) 0.1244, 1.0628, 5.8708\n",
      "90000 tensor(7129.7759, grad_fn=<MseLossBackward>) 0.1836, 0.9261, 3.9685\n"
     ]
    }
   ],
   "source": [
    "for i in range(100000):\n",
    "    optim.zero_grad()\n",
    "    x = torch.FloatTensor(1000, 1).uniform_(-30, 30)\n",
    "    y = x ** 2\n",
    "    lv = loss(model(x), y)\n",
    "    if i % 10000 == 0:\n",
    "        model.eval()\n",
    "        with torch.no_grad():\n",
    "            log = model(torch.Tensor([[0],[1],[2]])).tolist()\n",
    "            log = f\"{log[0][0]:.4f}, {log[1][0]:.4f}, {log[2][0]:.4f}\"\n",
    "            print(str(i), lv, log)\n",
    "    lv.backward()\n",
    "    optim.step()"
   ]
  },
  {
   "cell_type": "code",
   "execution_count": 22,
   "metadata": {},
   "outputs": [
    {
     "name": "stderr",
     "output_type": "stream",
     "text": [
      "/home/jack/anaconda3/envs/cuda/lib/python3.7/site-packages/ipykernel_launcher.py:3: UserWarning: torch.range is deprecated and will be removed in a future release because its behavior is inconsistent with Python's range builtin. Instead, use torch.arange, which produces values in [start, end).\n",
      "  This is separate from the ipykernel package so we can avoid doing imports until\n"
     ]
    },
    {
     "data": {
      "image/png": "[encoded data removed]",
      "text/plain": [
       "<Figure size 432x288 with 1 Axes>"
      ]
     },
     "metadata": {
      "needs_background": "light"
     },
     "output_type": "display_data"
    }
   ],
   "source": [
    "model.eval()\n",
    "with torch.no_grad():\n",
    "    xx = torch.range(-20, 20, 1)\n",
    "    y = model(xx.unsqueeze(1))\n",
    "    plt.scatter(xx, y.data)"
   ]
  },
  {
   "cell_type": "code",
   "execution_count": 19,
   "metadata": {},
   "outputs": [
    {
     "name": "stdout",
     "output_type": "stream",
     "text": [
      "tensor([[ 11.9710],\n",
      "        [108.0612],\n",
      "        [ 84.0585]])\r"
     ]
    }
   ],
   "source": [
    "model.eval()\n",
    "with torch.no_grad():\n",
    "    print(model(torch.Tensor([[1.2],[10],[9]])), end = \"\\r\")"
   ]
  },
  {
   "cell_type": "code",
   "execution_count": null,
   "metadata": {},
   "outputs": [],
   "source": []
  }
 ],
 "metadata": {
  "kernelspec": {
   "display_name": "Python 3",
   "language": "python",
   "name": "python3"
  },
  "language_info": {
   "codemirror_mode": {
    "name": "ipython",
    "version": 3
   },
   "file_extension": ".py",
   "mimetype": "text/x-python",
   "name": "python",
   "nbconvert_exporter": "python",
   "pygments_lexer": "ipython3",
   "version": "3.7.5"
  },
  "varInspector": {
   "cols": {
    "lenName": 16,
    "lenType": 16,
    "lenVar": 40
   },
   "kernels_config": {
    "python": {
     "delete_cmd_postfix": "",
     "delete_cmd_prefix": "del ",
     "library": "var_list.py",
     "varRefreshCmd": "print(var_dic_list())"
    },
    "r": {
     "delete_cmd_postfix": ") ",
     "delete_cmd_prefix": "rm(",
     "library": "var_list.r",
     "varRefreshCmd": "cat(var_dic_list()) "
    }
   },
   "types_to_exclude": [
    "module",
    "function",
    "builtin_function_or_method",
    "instance",
    "_Feature"
   ],
   "window_display": false
  }
 },
 "nbformat": 4,
 "nbformat_minor": 4
}
